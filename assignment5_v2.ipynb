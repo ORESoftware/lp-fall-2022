{
 "cells": [
  {
   "cell_type": "code",
   "execution_count": 228,
   "metadata": {},
   "outputs": [],
   "source": [
    "%reset"
   ]
  },
  {
   "cell_type": "code",
   "execution_count": 229,
   "metadata": {},
   "outputs": [
    {
     "name": "stdout",
     "output_type": "stream",
     "text": [
      "Version identifier: 22.1.0.0 | 2022-03-27 | 54982fbec\n",
      "CPXPARAM_Read_DataCheck                          1\n",
      "Infeasible column 'x1'.\n",
      "Presolve time = 0.00 sec. (0.00 ticks)\n"
     ]
    },
    {
     "name": "stderr",
     "output_type": "stream",
     "text": [
      "CPLEX Error  1217: No solution exists.\n"
     ]
    },
    {
     "ename": "CplexSolverError",
     "evalue": "CPLEX Error  1217: No solution exists.",
     "output_type": "error",
     "traceback": [
      "\u001b[0;31m---------------------------------------------------------------------------\u001b[0m",
      "\u001b[0;31mCplexSolverError\u001b[0m                          Traceback (most recent call last)",
      "\u001b[1;32m/Users/Matt1/Library/CloudStorage/Box-Box/UT/Course_Materials/ORI_391Q/programming_assignments/assignment5_v2.ipynb Cell 2\u001b[0m in \u001b[0;36m<cell line: 105>\u001b[0;34m()\u001b[0m\n\u001b[1;32m    <a href='vscode-notebook-cell:/Users/Matt1/Library/CloudStorage/Box-Box/UT/Course_Materials/ORI_391Q/programming_assignments/assignment5_v2.ipynb#W2sZmlsZQ%3D%3D?line=99'>100</a>\u001b[0m model\u001b[39m.\u001b[39mlinear_constraints\u001b[39m.\u001b[39madd(lin_expr\u001b[39m=\u001b[39m new_constraints,\n\u001b[1;32m    <a href='vscode-notebook-cell:/Users/Matt1/Library/CloudStorage/Box-Box/UT/Course_Materials/ORI_391Q/programming_assignments/assignment5_v2.ipynb#W2sZmlsZQ%3D%3D?line=100'>101</a>\u001b[0m                                senses\u001b[39m=\u001b[39m constraint_senses,\n\u001b[1;32m    <a href='vscode-notebook-cell:/Users/Matt1/Library/CloudStorage/Box-Box/UT/Course_Materials/ORI_391Q/programming_assignments/assignment5_v2.ipynb#W2sZmlsZQ%3D%3D?line=101'>102</a>\u001b[0m                                rhs\u001b[39m=\u001b[39m rhs,\n\u001b[1;32m    <a href='vscode-notebook-cell:/Users/Matt1/Library/CloudStorage/Box-Box/UT/Course_Materials/ORI_391Q/programming_assignments/assignment5_v2.ipynb#W2sZmlsZQ%3D%3D?line=102'>103</a>\u001b[0m                                names\u001b[39m=\u001b[39m constraint_names)\n\u001b[1;32m    <a href='vscode-notebook-cell:/Users/Matt1/Library/CloudStorage/Box-Box/UT/Course_Materials/ORI_391Q/programming_assignments/assignment5_v2.ipynb#W2sZmlsZQ%3D%3D?line=103'>104</a>\u001b[0m model\u001b[39m.\u001b[39msolve()\n\u001b[0;32m--> <a href='vscode-notebook-cell:/Users/Matt1/Library/CloudStorage/Box-Box/UT/Course_Materials/ORI_391Q/programming_assignments/assignment5_v2.ipynb#W2sZmlsZQ%3D%3D?line=104'>105</a>\u001b[0m \u001b[39mprint\u001b[39m(\u001b[39m\"\u001b[39m\u001b[39mObjective Function Value:\u001b[39m\u001b[39m\"\u001b[39m,model\u001b[39m.\u001b[39;49msolution\u001b[39m.\u001b[39;49mget_objective_value())\n\u001b[1;32m    <a href='vscode-notebook-cell:/Users/Matt1/Library/CloudStorage/Box-Box/UT/Course_Materials/ORI_391Q/programming_assignments/assignment5_v2.ipynb#W2sZmlsZQ%3D%3D?line=105'>106</a>\u001b[0m \u001b[39mprint\u001b[39m(\u001b[39m\"\u001b[39m\u001b[39mDecision Variables Values:\u001b[39m\u001b[39m\"\u001b[39m,model\u001b[39m.\u001b[39msolution\u001b[39m.\u001b[39mget_values())\n",
      "File \u001b[0;32m~/opt/miniconda3/lib/python3.8/site-packages/cplex/_internal/_subinterfaces.py:7211\u001b[0m, in \u001b[0;36mSolutionInterface.get_objective_value\u001b[0;34m(self)\u001b[0m\n\u001b[1;32m   7197\u001b[0m \u001b[39mdef\u001b[39;00m \u001b[39mget_objective_value\u001b[39m(\u001b[39mself\u001b[39m):\n\u001b[1;32m   7198\u001b[0m     \u001b[39m\"\"\"Returns the value of the objective function.\u001b[39;00m\n\u001b[1;32m   7199\u001b[0m \n\u001b[1;32m   7200\u001b[0m \u001b[39m    Example usage:\u001b[39;00m\n\u001b[0;32m   (...)\u001b[0m\n\u001b[1;32m   7209\u001b[0m \u001b[39m    -202.5\u001b[39;00m\n\u001b[1;32m   7210\u001b[0m \u001b[39m    \"\"\"\u001b[39;00m\n\u001b[0;32m-> 7211\u001b[0m     \u001b[39mreturn\u001b[39;00m CPX_PROC\u001b[39m.\u001b[39;49mgetobjval(\u001b[39mself\u001b[39;49m\u001b[39m.\u001b[39;49m_env\u001b[39m.\u001b[39;49m_e, \u001b[39mself\u001b[39;49m\u001b[39m.\u001b[39;49m_cplex\u001b[39m.\u001b[39;49m_lp)\n",
      "File \u001b[0;32m~/opt/miniconda3/lib/python3.8/site-packages/cplex/_internal/_procedural.py:2055\u001b[0m, in \u001b[0;36mgetobjval\u001b[0;34m(env, lp)\u001b[0m\n\u001b[1;32m   2053\u001b[0m objval \u001b[39m=\u001b[39m CR\u001b[39m.\u001b[39mdoublePtr()\n\u001b[1;32m   2054\u001b[0m status \u001b[39m=\u001b[39m CR\u001b[39m.\u001b[39mCPXXgetobjval(env, lp, objval)\n\u001b[0;32m-> 2055\u001b[0m check_status(env, status)\n\u001b[1;32m   2056\u001b[0m \u001b[39mreturn\u001b[39;00m objval\u001b[39m.\u001b[39mvalue()\n",
      "File \u001b[0;32m~/opt/miniconda3/lib/python3.8/site-packages/cplex/_internal/_procedural.py:249\u001b[0m, in \u001b[0;36mStatusChecker.__call__\u001b[0;34m(self, env, status, from_cb)\u001b[0m\n\u001b[1;32m    247\u001b[0m     \u001b[39melse\u001b[39;00m:\n\u001b[1;32m    248\u001b[0m         error_string \u001b[39m=\u001b[39m geterrorstring(env, status)\n\u001b[0;32m--> 249\u001b[0m \u001b[39mraise\u001b[39;00m CplexSolverError(error_string, env, status)\n",
      "\u001b[0;31mCplexSolverError\u001b[0m: CPLEX Error  1217: No solution exists."
     ]
    }
   ],
   "source": [
    "#!/usr/bin/env python3\n",
    "\n",
    "from docplex.mp.model import Model\n",
    "import numpy as np\n",
    "import random\n",
    "from scipy.sparse import rand\n",
    "import pandas as pd\n",
    "from scipy.linalg import lu_factor, lu_solve\n",
    "import cplex\n",
    "from random import randrange\n",
    "import random\n",
    "\n",
    "# TODO, use either cplex library or docplex library\n",
    "# probably not both:\n",
    "# here is API for cplex lib: https://courses.ie.bilkent.edu.tr/ie400/wp-content/uploads/sites/8/2021/12/IBM-ILOG-CPLEX-PYTHON-API.pdf\n",
    "\n",
    "# Assignment # 5. Using a commercial LP code; Due Dec 05, 2022 \n",
    "# Part 1.  Use CPLEX, XPRESS, Gurobi or CLP (COIN-OR) to solve the same set of simultaneous \n",
    "# equations that you solved in Assignment #1. CPLEX is on the ME Server.  You will have to download \n",
    "# CLP to your computer to use it.  On a Windows machine, sample CPLEX programs in C, C++, java, \n",
    "# Phython and perhaps other languages are available at  \n",
    " \n",
    "# C:\\Program Files\\IBM\\ILOG\\CPLEX_Studio1261\\cplex\\examples\\src \n",
    " \n",
    "# Part 2.  Also, solve a 10  20 LP.  Use your random matrix generator with the same parameters from \n",
    "# Assignment #1 to generate the LP.  The direction of the inequality for each constraint should have a 0.7 \n",
    "# chance of being  and a 0.3 chance of being  (no equality constraints).  The objective function is to be \n",
    "# minimized and should have coefficients cj randomly distributed between –10 and +5.  You might want to \n",
    "# add an upper bound on each variable to ensure that the problem has a finite solution.  If you are having \n",
    "# difficulty generating a feasible problem, you can construct one by selecting nonnegative values for the \n",
    "# decision variables (say,   ˆx j =1, for all j), and then fix the vector b so that  Aˆx =b .\n",
    "\n",
    "def A_matrix (U, L, density, m, n):\n",
    "    #define a matrix of random values between 0 and 1 of specific density and size\n",
    "    matrix=rand(m,n,density)\n",
    "    #interpolate between upper and lower bounds with randomly generated number\n",
    "    matrix = (matrix.toarray()*(U-L))\n",
    "    #convert array to dataframe\n",
    "    matrix_df=pd.DataFrame(matrix)\n",
    "    # cycle through rows and check if all values in row are zero\n",
    "\n",
    "    for row in matrix_df.index:\n",
    "        if (matrix_df.loc[row,:]==0).all():\n",
    "            #if all values in row are zero, then recurse\n",
    "            return A_matrix(U,L,density,m,n)\n",
    "    #cycle through columns and check if all values in column are zero\n",
    "    for col in matrix_df.columns:\n",
    "        if (matrix_df.loc[:,col]==0).all():\n",
    "            #if all values in column are zero, then recurse\n",
    "            return A_matrix(U,L,density,m,n)\n",
    "\n",
    "    return matrix_df\n",
    "\n",
    "\n",
    "\n",
    "\n",
    "def b_matrix (U, L, density, m, n):\n",
    "    #define a matrix of random values between 0 and 1 of specific density and size\n",
    "    matrix=rand(m,n,density)\n",
    "    #interpolate between upper and lower bounds with randomly generated number\n",
    "    matrix = matrix.toarray()*(U-L)+L\n",
    "    #convert array to dataframe\n",
    "    matrix_df=pd.DataFrame(matrix)\n",
    "    #cycle through rows and check if all values in row are zero\n",
    "\n",
    "    return matrix_df\n",
    "\n",
    "\n",
    "#########################################\n",
    "################PART 1###################\n",
    "#########################################\n",
    "A=A_matrix(30,-10,0.6,10,10)\n",
    "b=b_matrix(50,0,0.8,10,1)\n",
    "model=cplex.Cplex()\n",
    "objective= [] \n",
    "vars=[]\n",
    "var_types=[]\n",
    "constraint_names=[]\n",
    "constraint_senses=[]\n",
    "\n",
    "for col in A.columns:\n",
    "    vars.append('x' + str(col))\n",
    "    var_types.append('C')\n",
    "    constraint_senses.append('E')\n",
    "    objective.append(1)\n",
    "constraints={}\n",
    "for row in A.index:\n",
    "    constraint_names.append('c' + str(row))\n",
    "    constraints[str(row)]=[vars,list(A.loc[row,:])]\n",
    "new_constraints=[]\n",
    "for key in constraints:\n",
    "    new_constraints.append(constraints[key])\n",
    "\n",
    "variable_names = vars\n",
    "variable_types = var_types\n",
    "model.variables.add(obj=objective,\n",
    "                   names= variable_names)\n",
    "model.objective.set_sense(model.objective.sense.maximize)\n",
    "rhs = list(b[0])\n",
    "model.linear_constraints.add(lin_expr= new_constraints,\n",
    "                               senses= constraint_senses,\n",
    "                               rhs= rhs,\n",
    "                               names= constraint_names)\n",
    "model.solve()\n",
    "print(\"Objective Function Value:\",model.solution.get_objective_value())\n",
    "print(\"Decision Variables Values:\",model.solution.get_values())"
   ]
  },
  {
   "cell_type": "code",
   "execution_count": 230,
   "metadata": {},
   "outputs": [
    {
     "ename": "CplexError",
     "evalue": "inconsistent argument lengths: lin_expr, senses, rhs, range_values, names",
     "output_type": "error",
     "traceback": [
      "\u001b[0;31m---------------------------------------------------------------------------\u001b[0m",
      "\u001b[0;31mCplexError\u001b[0m                                Traceback (most recent call last)",
      "\u001b[1;32m/Users/Matt1/Library/CloudStorage/Box-Box/UT/Course_Materials/ORI_391Q/programming_assignments/assignment5_v2.ipynb Cell 3\u001b[0m in \u001b[0;36m<cell line: 36>\u001b[0;34m()\u001b[0m\n\u001b[1;32m     <a href='vscode-notebook-cell:/Users/Matt1/Library/CloudStorage/Box-Box/UT/Course_Materials/ORI_391Q/programming_assignments/assignment5_v2.ipynb#X30sZmlsZQ%3D%3D?line=33'>34</a>\u001b[0m model\u001b[39m.\u001b[39mobjective\u001b[39m.\u001b[39mset_sense(model\u001b[39m.\u001b[39mobjective\u001b[39m.\u001b[39msense\u001b[39m.\u001b[39mminimize)\n\u001b[1;32m     <a href='vscode-notebook-cell:/Users/Matt1/Library/CloudStorage/Box-Box/UT/Course_Materials/ORI_391Q/programming_assignments/assignment5_v2.ipynb#X30sZmlsZQ%3D%3D?line=34'>35</a>\u001b[0m rhs \u001b[39m=\u001b[39m \u001b[39mlist\u001b[39m(b[\u001b[39m0\u001b[39m])\n\u001b[0;32m---> <a href='vscode-notebook-cell:/Users/Matt1/Library/CloudStorage/Box-Box/UT/Course_Materials/ORI_391Q/programming_assignments/assignment5_v2.ipynb#X30sZmlsZQ%3D%3D?line=35'>36</a>\u001b[0m model\u001b[39m.\u001b[39;49mlinear_constraints\u001b[39m.\u001b[39;49madd(lin_expr\u001b[39m=\u001b[39;49m new_constraints,\n\u001b[1;32m     <a href='vscode-notebook-cell:/Users/Matt1/Library/CloudStorage/Box-Box/UT/Course_Materials/ORI_391Q/programming_assignments/assignment5_v2.ipynb#X30sZmlsZQ%3D%3D?line=36'>37</a>\u001b[0m                                senses\u001b[39m=\u001b[39;49m constraint_senses,\n\u001b[1;32m     <a href='vscode-notebook-cell:/Users/Matt1/Library/CloudStorage/Box-Box/UT/Course_Materials/ORI_391Q/programming_assignments/assignment5_v2.ipynb#X30sZmlsZQ%3D%3D?line=37'>38</a>\u001b[0m                                rhs\u001b[39m=\u001b[39;49m rhs,\n\u001b[1;32m     <a href='vscode-notebook-cell:/Users/Matt1/Library/CloudStorage/Box-Box/UT/Course_Materials/ORI_391Q/programming_assignments/assignment5_v2.ipynb#X30sZmlsZQ%3D%3D?line=38'>39</a>\u001b[0m                                names\u001b[39m=\u001b[39;49m constraint_names)\n\u001b[1;32m     <a href='vscode-notebook-cell:/Users/Matt1/Library/CloudStorage/Box-Box/UT/Course_Materials/ORI_391Q/programming_assignments/assignment5_v2.ipynb#X30sZmlsZQ%3D%3D?line=39'>40</a>\u001b[0m model\u001b[39m.\u001b[39msolve()\n\u001b[1;32m     <a href='vscode-notebook-cell:/Users/Matt1/Library/CloudStorage/Box-Box/UT/Course_Materials/ORI_391Q/programming_assignments/assignment5_v2.ipynb#X30sZmlsZQ%3D%3D?line=40'>41</a>\u001b[0m \u001b[39mprint\u001b[39m(\u001b[39m\"\u001b[39m\u001b[39mObjective Function Value:\u001b[39m\u001b[39m\"\u001b[39m,model\u001b[39m.\u001b[39msolution\u001b[39m.\u001b[39mget_objective_value())\n",
      "File \u001b[0;32m~/opt/miniconda3/lib/python3.8/site-packages/cplex/_internal/_subinterfaces.py:1273\u001b[0m, in \u001b[0;36mLinearConstraintInterface.add\u001b[0;34m(self, lin_expr, senses, rhs, range_values, names)\u001b[0m\n\u001b[1;32m   1217\u001b[0m \u001b[39m\"\"\"Adds linear constraints to the problem.\u001b[39;00m\n\u001b[1;32m   1218\u001b[0m \n\u001b[1;32m   1219\u001b[0m \u001b[39mlinear_constraints.add accepts the keyword arguments lin_expr,\u001b[39;00m\n\u001b[0;32m   (...)\u001b[0m\n\u001b[1;32m   1269\u001b[0m \u001b[39m[0.0, 1.0, -1.0, 2.0]\u001b[39;00m\n\u001b[1;32m   1270\u001b[0m \u001b[39m\"\"\"\u001b[39;00m\n\u001b[1;32m   1271\u001b[0m lin_expr, senses, rhs, range_values, names \u001b[39m=\u001b[39m init_list_args(\n\u001b[1;32m   1272\u001b[0m     lin_expr, senses, rhs, range_values, names)\n\u001b[0;32m-> 1273\u001b[0m \u001b[39mreturn\u001b[39;00m \u001b[39mself\u001b[39;49m\u001b[39m.\u001b[39;49m_add_iter(\u001b[39mself\u001b[39;49m\u001b[39m.\u001b[39;49mget_num, \u001b[39mself\u001b[39;49m\u001b[39m.\u001b[39;49m_add,\n\u001b[1;32m   1274\u001b[0m                       lin_expr, senses, rhs, range_values, names)\n",
      "File \u001b[0;32m~/opt/miniconda3/lib/python3.8/site-packages/cplex/_internal/_baseinterface.py:41\u001b[0m, in \u001b[0;36mBaseInterface._add_iter\u001b[0;34m(getnumfun, addfun, *args, **kwargs)\u001b[0m\n\u001b[1;32m     39\u001b[0m \u001b[39m\"\"\"non-public\"\"\"\u001b[39;00m\n\u001b[1;32m     40\u001b[0m old \u001b[39m=\u001b[39m getnumfun()\n\u001b[0;32m---> 41\u001b[0m addfun(\u001b[39m*\u001b[39;49margs, \u001b[39m*\u001b[39;49m\u001b[39m*\u001b[39;49mkwargs)\n\u001b[1;32m     42\u001b[0m \u001b[39mreturn\u001b[39;00m \u001b[39mrange\u001b[39m(old, getnumfun())\n",
      "File \u001b[0;32m~/opt/miniconda3/lib/python3.8/site-packages/cplex/_internal/_subinterfaces.py:1193\u001b[0m, in \u001b[0;36mLinearConstraintInterface._add\u001b[0;34m(self, lin_expr, senses, rhs, range_values, names)\u001b[0m\n\u001b[1;32m   1191\u001b[0m arg_list \u001b[39m=\u001b[39m [rhs, senses, range_values, names, lin_expr]\n\u001b[1;32m   1192\u001b[0m num_new_rows \u001b[39m=\u001b[39m max_arg_length(arg_list)\n\u001b[0;32m-> 1193\u001b[0m validate_arg_lengths(\n\u001b[1;32m   1194\u001b[0m     arg_list,\n\u001b[1;32m   1195\u001b[0m     extra_msg\u001b[39m=\u001b[39;49m\u001b[39m\"\u001b[39;49m\u001b[39m: lin_expr, senses, rhs, range_values, names\u001b[39;49m\u001b[39m\"\u001b[39;49m\n\u001b[1;32m   1196\u001b[0m )\n\u001b[1;32m   1197\u001b[0m num_old_rows \u001b[39m=\u001b[39m \u001b[39mself\u001b[39m\u001b[39m.\u001b[39mget_num()\n\u001b[1;32m   1198\u001b[0m \u001b[39mif\u001b[39;00m lin_expr:\n",
      "File \u001b[0;32m~/opt/miniconda3/lib/python3.8/site-packages/cplex/_internal/_aux_functions.py:99\u001b[0m, in \u001b[0;36mvalidate_arg_lengths\u001b[0;34m(arg_list, allow_empty, extra_msg)\u001b[0m\n\u001b[1;32m     97\u001b[0m \u001b[39mfor\u001b[39;00m arg_length \u001b[39min\u001b[39;00m arg_lengths:\n\u001b[1;32m     98\u001b[0m     \u001b[39mif\u001b[39;00m arg_length \u001b[39m!=\u001b[39m max_length:\n\u001b[0;32m---> 99\u001b[0m         \u001b[39mraise\u001b[39;00m CplexError(\u001b[39m\"\u001b[39m\u001b[39minconsistent argument lengths\u001b[39m\u001b[39m\"\u001b[39m \u001b[39m+\u001b[39m extra_msg)\n",
      "\u001b[0;31mCplexError\u001b[0m: inconsistent argument lengths: lin_expr, senses, rhs, range_values, names"
     ]
    }
   ],
   "source": [
    "#########################################\n",
    "################PART 2###################\n",
    "#########################################\n",
    "A=A_matrix(30,-10,0.6,10,20)\n",
    "b=b_matrix(50,0,0.8,10,1)\n",
    "model=cplex.Cplex()\n",
    "objective= [] \n",
    "vars=[]\n",
    "var_types=[]\n",
    "constraint_names=[]\n",
    "constraint_senses=[]\n",
    "\n",
    "for col in A.columns:\n",
    "    vars.append('x' + str(col))\n",
    "    var_types.append('C')\n",
    "    num=random.random()\n",
    "    objective.append(randrange(-10,5))\n",
    "    if num > 0.3:\n",
    "        constraint_senses.append('G')\n",
    "    else:\n",
    "        constraint_senses.append('L')\n",
    "constraints={}\n",
    "for row in A.index:\n",
    "    constraint_names.append('c' + str(row))\n",
    "    constraints[str(row)]=[vars,list(A.loc[row,:])]\n",
    "new_constraints=[]\n",
    "for key in constraints:\n",
    "    new_constraints.append(constraints[key])\n",
    "\n",
    "variable_names = vars\n",
    "variable_types = var_types\n",
    "model.variables.add(obj=objective,\n",
    "                   names= variable_names)\n",
    "model.objective.set_sense(model.objective.sense.minimize)\n",
    "rhs = list(b[0])\n",
    "model.linear_constraints.add(lin_expr= new_constraints,\n",
    "                               senses= constraint_senses,\n",
    "                               rhs= rhs,\n",
    "                               names= constraint_names)\n",
    "model.solve()\n",
    "print(\"Objective Function Value:\",model.solution.get_objective_value())\n",
    "print(\"Decision Variables Values:\",model.solution.get_values())"
   ]
  },
  {
   "cell_type": "code",
   "execution_count": null,
   "metadata": {},
   "outputs": [],
   "source": []
  }
 ],
 "metadata": {
  "kernelspec": {
   "display_name": "Python 3.8.13 ('base')",
   "language": "python",
   "name": "python3"
  },
  "language_info": {
   "codemirror_mode": {
    "name": "ipython",
    "version": 3
   },
   "file_extension": ".py",
   "mimetype": "text/x-python",
   "name": "python",
   "nbconvert_exporter": "python",
   "pygments_lexer": "ipython3",
   "version": "3.8.13"
  },
  "orig_nbformat": 4,
  "vscode": {
   "interpreter": {
    "hash": "cb2bba8f71231cf386b988b66c36a584c124f826cd03a9307c605e7fdaa78d2a"
   }
  }
 },
 "nbformat": 4,
 "nbformat_minor": 2
}
