{
 "cells": [
  {
   "cell_type": "markdown",
   "metadata": {
    "jupyter": {
     "outputs_hidden": false
    },
    "pycharm": {
     "name": "#%%\n"
    }
   },
   "source": [
    "## Programming Assignment #2, LP, Fall 2022\n",
    "### Aidan Pimentel (amp5496), Alexander Mills (adm5547), Matt Skiles (ms82657)\n"
   ]
  },
  {
   "cell_type": "code",
   "execution_count": 14,
   "metadata": {
    "collapsed": false,
    "jupyter": {
     "outputs_hidden": false
    },
    "pycharm": {
     "name": "#%%\n"
    }
   },
   "outputs": [],
   "source": [
    "import numpy as np\n",
    "import pandas as pd\n",
    "import random\n",
    "from scipy.sparse import rand\n",
    "from scipy.linalg import lu_factor, lu_solve, cho_factor, cho_solve\n"
   ]
  },
  {
   "cell_type": "code",
   "execution_count": 15,
   "metadata": {
    "collapsed": false,
    "jupyter": {
     "outputs_hidden": false
    },
    "pycharm": {
     "name": "#%%\n"
    }
   },
   "outputs": [],
   "source": [
    "\n",
    "def A_matrix (U, L, density, m, n):\n",
    "    #define a matrix of random values between 0 and 1 of specific density and size\n",
    "    matrix=rand(m,n,density)\n",
    "    #interpolate between upper and lower bounds with randomly generated number\n",
    "    matrix = matrix*(U-L)+L\n",
    "    #convert array to dataframe\n",
    "    matrix_df=pd.DataFrame(matrix.toarray())\n",
    "    #cycle through rows and check if all values in row are zero\n",
    "    for row in matrix_df.index:\n",
    "        if (matrix_df.loc[row,:]==0).all():\n",
    "            #if all values in row are zero, then recurse\n",
    "            return A_matrix(U,L,density,m,n)\n",
    "    #cycle through columns and check if all values in column are zero\n",
    "    for col in matrix_df.columns:\n",
    "        if (matrix_df.loc[:,col]==0).all():\n",
    "            #if all values in column are zero, then recurse\n",
    "            return A_matrix(U,L,density,m,n)\n",
    "\n",
    "    return matrix.toarray()\n",
    "\n",
    "def b_matrix (U, L, density, m, n):\n",
    "    #define a matrix of random values between 0 and 1 of specific density and size\n",
    "    matrix=rand(m,n,density)\n",
    "    #interpolate between upper and lower bounds with randomly generated number\n",
    "    matrix = matrix*(U-L)+L\n",
    "    #convert array to dataframe\n",
    "    matrix_df=pd.DataFrame(matrix.toarray())\n",
    "    #cycle through rows and check if all values in row are zero\n",
    "\n",
    "    return matrix.toarray()"
   ]
  },
  {
   "cell_type": "markdown",
   "metadata": {
    "pycharm": {
     "name": "#%% md\n"
    },
    "tags": []
   },
   "source": [
    "## Part 1: LU factorization routines LFTRG / LFSRG "
   ]
  },
  {
   "cell_type": "code",
   "execution_count": 7,
   "metadata": {
    "collapsed": false,
    "jupyter": {
     "outputs_hidden": false
    },
    "pycharm": {
     "name": "#%%\n"
    }
   },
   "outputs": [
    {
     "name": "stdout",
     "output_type": "stream",
     "text": [
      "[[-0.22309735]\n",
      " [ 0.32530725]\n",
      " [ 0.32022353]\n",
      " [-0.73688055]\n",
      " [ 0.30071514]\n",
      " [ 0.02832577]\n",
      " [ 0.00653248]\n",
      " [ 0.3054587 ]\n",
      " [ 0.17999383]\n",
      " [-0.30497714]]\n"
     ]
    }
   ],
   "source": [
    "A=A_matrix(100,0,0.4,10,10)\n",
    "b=b_matrix(50,0,0.8,10,1)\n",
    "lu, piv = lu_factor(A)\n",
    "\n",
    "x = lu_solve((lu, piv), b)\n",
    "print(x)"
   ]
  },
  {
   "cell_type": "markdown",
   "metadata": {
    "tags": []
   },
   "source": [
    "## Part 2: Bx = b directly (using LSLRG)"
   ]
  },
  {
   "cell_type": "code",
   "execution_count": 8,
   "metadata": {
    "pycharm": {
     "name": "#%%\n"
    }
   },
   "outputs": [
    {
     "name": "stdout",
     "output_type": "stream",
     "text": [
      "[[ 0.99714519]\n",
      " [ 0.17390249]\n",
      " [-1.45324718]\n",
      " [ 1.48732842]\n",
      " [ 0.38180266]\n",
      " [-0.65679815]\n",
      " [-0.1894038 ]\n",
      " [-2.16785384]\n",
      " [ 0.33793284]\n",
      " [-1.48453791]]\n"
     ]
    }
   ],
   "source": [
    "A=A_matrix(100,0,0.4,10,10)\n",
    "b=b_matrix(50,0,0.8,10,1)\n",
    "lu, piv = lu_factor(A)\n",
    "\n",
    "x = lu_solve((lu, piv), b)\n",
    "print(x)"
   ]
  },
  {
   "cell_type": "markdown",
   "metadata": {},
   "source": [
    "## Part 3: find an inverse of a square matrix (LINRG) and then use (MURRV)"
   ]
  },
  {
   "cell_type": "code",
   "execution_count": 10,
   "metadata": {
    "pycharm": {
     "name": "#%%\n"
    }
   },
   "outputs": [
    {
     "name": "stdout",
     "output_type": "stream",
     "text": [
      "[[ 0.99714519]\n",
      " [ 0.17390249]\n",
      " [-1.45324718]\n",
      " [ 1.48732842]\n",
      " [ 0.38180266]\n",
      " [-0.65679815]\n",
      " [-0.1894038 ]\n",
      " [-2.16785384]\n",
      " [ 0.33793284]\n",
      " [-1.48453791]]\n"
     ]
    }
   ],
   "source": [
    "x = np.linalg.solve(A,b)\n",
    "print(x)"
   ]
  },
  {
   "cell_type": "code",
   "execution_count": 11,
   "metadata": {
    "pycharm": {
     "name": "#%%\n"
    }
   },
   "outputs": [
    {
     "name": "stdout",
     "output_type": "stream",
     "text": [
      "[[ 0.99714519]\n",
      " [ 0.17390249]\n",
      " [-1.45324718]\n",
      " [ 1.48732842]\n",
      " [ 0.38180266]\n",
      " [-0.65679815]\n",
      " [-0.1894038 ]\n",
      " [-2.16785384]\n",
      " [ 0.33793284]\n",
      " [-1.48453791]]\n"
     ]
    }
   ],
   "source": [
    "A_inv = np.linalg.inv(A)\n",
    "print(A_inv.dot(b))\n"
   ]
  },
  {
   "cell_type": "markdown",
   "metadata": {
    "tags": []
   },
   "source": [
    "## Part 4: Cholesky factors (CHFAC and LFSDS)"
   ]
  },
  {
   "cell_type": "code",
   "execution_count": 12,
   "metadata": {
    "collapsed": false,
    "jupyter": {
     "outputs_hidden": false
    },
    "pycharm": {
     "name": "#%%\n"
    }
   },
   "outputs": [
    {
     "data": {
      "text/plain": [
       "array([[-0.75206645],\n",
       "       [ 3.4219417 ],\n",
       "       [-1.16231783],\n",
       "       [ 0.22123317],\n",
       "       [ 2.61866061],\n",
       "       [-4.11706996],\n",
       "       [-0.90013178],\n",
       "       [ 0.88876551],\n",
       "       [-0.96993503],\n",
       "       [ 2.67142054]])"
      ]
     },
     "execution_count": 12,
     "metadata": {},
     "output_type": "execute_result"
    }
   ],
   "source": [
    "def is_pos_def(x):\n",
    "    return np.all(np.linalg.eigvals(x) > 0)\n",
    "\n",
    "def cho_fun (B):\n",
    "    D=(1/2*(B+np.transpose(B)))\n",
    "    while False == is_pos_def(D):\n",
    "        np.fill_diagonal(D, D.diagonal() + 20)       # we add a large number to diagonal\n",
    "    return cho_solve(cho_factor(D),b)\n",
    "\n",
    "cho_fun(A)\n"
   ]
  },
  {
   "cell_type": "markdown",
   "metadata": {},
   "source": [
    " ## end :)"
   ]
  }
 ],
 "metadata": {
  "kernelspec": {
   "display_name": "Python 3 (ipykernel)",
   "language": "python",
   "name": "python3"
  },
  "language_info": {
   "codemirror_mode": {
    "name": "ipython",
    "version": 3
   },
   "file_extension": ".py",
   "mimetype": "text/x-python",
   "name": "python",
   "nbconvert_exporter": "python",
   "pygments_lexer": "ipython3",
   "version": "3.9.12"
  },
  "vscode": {
   "interpreter": {
    "hash": "aee8b7b246df8f9039afb4144a1f6fd8d2ca17a180786b69acc140d282b71a49"
   }
  }
 },
 "nbformat": 4,
 "nbformat_minor": 4
}
