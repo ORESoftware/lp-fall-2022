{
 "cells": [
  {
   "cell_type": "code",
   "execution_count": 16,
   "metadata": {},
   "outputs": [],
   "source": [
    "import numpy as np\n",
    "import pandas as pd\n",
    "import random\n",
    "from scipy.sparse import rand\n",
    "from scipy.linalg import lu_factor, lu_solve, cho_factor, cho_solve\n",
    "def A_matrix (U, L, density, m, n):\n",
    "    #define a matrix of random values between 0 and 1 of specific density and size\n",
    "    matrix=rand(m,n,density)\n",
    "    #interpolate between upper and lower bounds with randomly generated number\n",
    "    matrix = matrix*(U-L)+L\n",
    "    #convert array to dataframe\n",
    "    matrix_df=pd.DataFrame(matrix.toarray())\n",
    "    #cycle through rows and check if all values in row are zero\n",
    "    for row in matrix_df.index:\n",
    "        if (matrix_df.loc[row,:]==0).all():\n",
    "            print(\"restarting\")\n",
    "            #if all values in row are zero, restart function\n",
    "            A_matrix(U,L,density,m,n)\n",
    "    #cycle through columns and check if all values in column are zero\n",
    "    for col in matrix_df.columns:\n",
    "        if (matrix_df.loc[:,col]==0).all():\n",
    "            #if all values in column are zero, restart function\n",
    "            print(\"restarting\")\n",
    "            A_matrix(U,L,density,m,n)\n",
    "\n",
    "    return matrix.toarray()\n",
    "\n",
    "def b_matrix (U, L, density, m, n):\n",
    "    #define a matrix of random values between 0 and 1 of specific density and size\n",
    "    matrix=rand(m,n,density)\n",
    "    #interpolate between upper and lower bounds with randomly generated number\n",
    "    matrix = matrix*(U-L)+L\n",
    "    #convert array to dataframe\n",
    "    matrix_df=pd.DataFrame(matrix.toarray())\n",
    "    #cycle through rows and check if all values in row are zero\n",
    "\n",
    "    return matrix.toarray()"
   ]
  },
  {
   "cell_type": "code",
   "execution_count": 19,
   "metadata": {},
   "outputs": [
    {
     "name": "stdout",
     "output_type": "stream",
     "text": [
      "[[ -1.37470446]\n",
      " [ -9.90285893]\n",
      " [  5.81719955]\n",
      " [  3.69713926]\n",
      " [-12.02755401]\n",
      " [  0.26239854]\n",
      " [  2.32051306]\n",
      " [  1.24323599]\n",
      " [ -2.24776885]\n",
      " [  1.0953921 ]]\n"
     ]
    }
   ],
   "source": [
    "A=A_matrix(100,0,0.4,10,10)\n",
    "b=b_matrix(50,0,0.8,10,1)\n",
    "lu, piv = lu_factor(A)\n",
    "\n",
    "x = lu_solve((lu, piv), b)\n",
    "print(x)"
   ]
  },
  {
   "cell_type": "code",
   "execution_count": 20,
   "metadata": {},
   "outputs": [
    {
     "name": "stdout",
     "output_type": "stream",
     "text": [
      "[[ -1.37470446]\n",
      " [ -9.90285893]\n",
      " [  5.81719955]\n",
      " [  3.69713926]\n",
      " [-12.02755401]\n",
      " [  0.26239854]\n",
      " [  2.32051306]\n",
      " [  1.24323599]\n",
      " [ -2.24776885]\n",
      " [  1.0953921 ]]\n"
     ]
    }
   ],
   "source": [
    "x = np.linalg.solve(A,b)\n",
    "print(x)"
   ]
  },
  {
   "cell_type": "code",
   "execution_count": 21,
   "metadata": {},
   "outputs": [
    {
     "name": "stdout",
     "output_type": "stream",
     "text": [
      "[[ -1.37470446]\n",
      " [ -9.90285893]\n",
      " [  5.81719955]\n",
      " [  3.69713926]\n",
      " [-12.02755401]\n",
      " [  0.26239854]\n",
      " [  2.32051306]\n",
      " [  1.24323599]\n",
      " [ -2.24776885]\n",
      " [  1.0953921 ]]\n"
     ]
    }
   ],
   "source": [
    "A_inv = np.linalg.inv(A)\n",
    "print(A_inv.dot(b))\n"
   ]
  },
  {
   "cell_type": "code",
   "execution_count": 22,
   "metadata": {},
   "outputs": [
    {
     "data": {
      "text/plain": [
       "array([[-0.04062788],\n",
       "       [-0.04562746],\n",
       "       [ 0.13166917],\n",
       "       [ 0.10101261],\n",
       "       [ 0.21351472],\n",
       "       [ 0.1877215 ],\n",
       "       [ 0.03550723],\n",
       "       [-0.11144251],\n",
       "       [ 0.0435024 ],\n",
       "       [-0.04814565]])"
      ]
     },
     "execution_count": 22,
     "metadata": {},
     "output_type": "execute_result"
    }
   ],
   "source": [
    "def is_pos_def(x):\n",
    "    return np.all(np.linalg.eigvals(x) > 0)\n",
    "\n",
    "def cho_fun (B):\n",
    "    D=(1/2*(B+np.transpose(B)))\n",
    "    if False == is_pos_def(D):\n",
    "        np.fill_diagonal(D, D.diagonal() + 200)        \n",
    "    return cho_solve(cho_factor(D),b)\n",
    "\n",
    "cho_fun(A)\n"
   ]
  },
  {
   "cell_type": "code",
   "execution_count": null,
   "metadata": {},
   "outputs": [],
   "source": [
    "\n",
    "\n",
    "def generate_dmat_old (B):\n",
    "    D=(1/2*(B+np.transpose(B)))\n",
    "    if False == is_pos_def(D):\n",
    "        print(\"not pos def\")\n",
    "        return None\n",
    "    return np.linalg.cholesky(D)"
   ]
  }
 ],
 "metadata": {
  "kernelspec": {
   "display_name": "Python 3.10.7 64-bit (microsoft store)",
   "language": "python",
   "name": "python3"
  },
  "language_info": {
   "codemirror_mode": {
    "name": "ipython",
    "version": 3
   },
   "file_extension": ".py",
   "mimetype": "text/x-python",
   "name": "python",
   "nbconvert_exporter": "python",
   "pygments_lexer": "ipython3",
   "version": "3.10.7"
  },
  "orig_nbformat": 4,
  "vscode": {
   "interpreter": {
    "hash": "470d22a4b3e1dc4b142377dc942a81b756182d283d33f2ed7cf9b76084efbf27"
   }
  }
 },
 "nbformat": 4,
 "nbformat_minor": 2
}
