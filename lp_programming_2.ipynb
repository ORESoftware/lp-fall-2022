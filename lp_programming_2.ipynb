{
 "cells": [
  {
   "cell_type": "markdown",
   "metadata": {
    "collapsed": false,
    "pycharm": {
     "name": "#%%\n"
    }
   },
   "source": [
    "## Programming Assignment #2, LP, Fall 2022\n",
    "### Aidan Pimentel (amp5496), Alexander Mills (adm5547), Matt Skiles (ms82657)\n"
   ]
  },
  {
   "cell_type": "code",
   "execution_count": 1,
   "outputs": [],
   "source": [
    "import numpy as np\n",
    "import pandas as pd\n",
    "import random\n",
    "from scipy.sparse import rand\n",
    "from scipy.linalg import lu_factor, lu_solve, cho_factor, cho_solve\n"
   ],
   "metadata": {
    "collapsed": false,
    "pycharm": {
     "name": "#%%\n"
    }
   }
  },
  {
   "cell_type": "code",
   "execution_count": 2,
   "outputs": [],
   "source": [
    "\n",
    "def A_matrix (U, L, density, m, n):\n",
    "    #define a matrix of random values between 0 and 1 of specific density and size\n",
    "    matrix=rand(m,n,density)\n",
    "    #interpolate between upper and lower bounds with randomly generated number\n",
    "    matrix = matrix*(U-L)+L\n",
    "    #convert array to dataframe\n",
    "    matrix_df=pd.DataFrame(matrix.toarray())\n",
    "    #cycle through rows and check if all values in row are zero\n",
    "    for row in matrix_df.index:\n",
    "        if (matrix_df.loc[row,:]==0).all():\n",
    "            #if all values in row are zero, then recurse\n",
    "            return A_matrix(U,L,density,m,n)\n",
    "    #cycle through columns and check if all values in column are zero\n",
    "    for col in matrix_df.columns:\n",
    "        if (matrix_df.loc[:,col]==0).all():\n",
    "            #if all values in column are zero, then recurse\n",
    "            return A_matrix(U,L,density,m,n)\n",
    "\n",
    "    return matrix.toarray()\n",
    "\n",
    "def b_matrix (U, L, density, m, n):\n",
    "    #define a matrix of random values between 0 and 1 of specific density and size\n",
    "    matrix=rand(m,n,density)\n",
    "    #interpolate between upper and lower bounds with randomly generated number\n",
    "    matrix = matrix*(U-L)+L\n",
    "    #convert array to dataframe\n",
    "    matrix_df=pd.DataFrame(matrix.toarray())\n",
    "    #cycle through rows and check if all values in row are zero\n",
    "\n",
    "    return matrix.toarray()"
   ],
   "metadata": {
    "collapsed": false,
    "pycharm": {
     "name": "#%%\n"
    }
   }
  },
  {
   "cell_type": "markdown",
   "source": [
    "## Part 1"
   ],
   "metadata": {
    "collapsed": false,
    "pycharm": {
     "name": "#%% md\n"
    }
   }
  },
  {
   "cell_type": "code",
   "execution_count": 3,
   "outputs": [
    {
     "name": "stdout",
     "output_type": "stream",
     "text": [
      "[[-1.24295937]\n",
      " [ 3.49469022]\n",
      " [ 0.20571027]\n",
      " [ 0.08030127]\n",
      " [-5.68470082]\n",
      " [ 3.72708175]\n",
      " [ 2.73542941]\n",
      " [-3.06660822]\n",
      " [ 1.70879225]\n",
      " [-0.4209734 ]]\n"
     ]
    }
   ],
   "source": [
    "A=A_matrix(100,0,0.4,10,10)\n",
    "b=b_matrix(50,0,0.8,10,1)\n",
    "lu, piv = lu_factor(A)\n",
    "\n",
    "x = lu_solve((lu, piv), b)\n",
    "print(x)"
   ],
   "metadata": {
    "collapsed": false,
    "pycharm": {
     "name": "#%%\n"
    }
   }
  },
  {
   "cell_type": "markdown",
   "source": [
    "## Part 2"
   ],
   "metadata": {
    "collapsed": false,
    "pycharm": {
     "name": "#%% md\n"
    }
   }
  },
  {
   "cell_type": "markdown",
   "metadata": {},
   "source": [
    "## Part 1 <a class=\"anchor\" id=\"first-bullet\"></a>"
   ]
  },
  {
   "cell_type": "markdown",
   "source": [
    "## Part 3"
   ],
   "metadata": {
    "collapsed": false,
    "pycharm": {
     "name": "#%% md\n"
    }
   }
  },
  {
   "cell_type": "code",
   "execution_count": 4,
   "metadata": {
    "pycharm": {
     "name": "#%%\n"
    }
   },
   "outputs": [
    {
     "name": "stdout",
     "output_type": "stream",
     "text": [
      "[[-1.24295937]\n",
      " [ 3.49469022]\n",
      " [ 0.20571027]\n",
      " [ 0.08030127]\n",
      " [-5.68470082]\n",
      " [ 3.72708175]\n",
      " [ 2.73542941]\n",
      " [-3.06660822]\n",
      " [ 1.70879225]\n",
      " [-0.4209734 ]]\n"
     ]
    }
   ],
   "source": [
    "A=A_matrix(100,0,0.4,10,10)\n",
    "b=b_matrix(50,0,0.8,10,1)\n",
    "lu, piv = lu_factor(A)\n",
    "\n",
    "x = lu_solve((lu, piv), b)\n",
    "print(x)"
   ]
  },
  {
   "cell_type": "markdown",
   "source": [],
   "metadata": {
    "collapsed": false,
    "pycharm": {
     "name": "#%% md\n"
    }
   }
  },
  {
   "cell_type": "code",
   "execution_count": 5,
   "outputs": [
    {
     "data": {
      "text/plain": "array([[-0.07506636],\n       [-0.28036216],\n       [ 0.14784236],\n       [ 0.27592904],\n       [ 0.76620346],\n       [ 0.90233275],\n       [-0.14365381],\n       [-1.1859574 ],\n       [ 0.39207902],\n       [ 0.56931569]])"
     },
     "execution_count": 5,
     "metadata": {},
     "output_type": "execute_result"
    }
   ],
   "source": [
    "def is_pos_def(x):\n",
    "    return np.all(np.linalg.eigvals(x) > 0)\n",
    "\n",
    "def cho_fun (B):\n",
    "    D=(1/2*(B+np.transpose(B)))\n",
    "    while False == is_pos_def(D):\n",
    "        np.fill_diagonal(D, D.diagonal() + 20)       # we add a large number to diagonal\n",
    "    return cho_solve(cho_factor(D),b)\n",
    "\n",
    "cho_fun(A)\n"
   ],
   "metadata": {
    "collapsed": false,
    "pycharm": {
     "name": "#%%\n"
    }
   }
  },
  {
   "cell_type": "code",
   "execution_count": 21,
   "metadata": {
    "pycharm": {
     "name": "#%%\n"
    }
   },
   "outputs": [
    {
     "name": "stdout",
     "output_type": "stream",
     "text": [
      "[[ 0.108236  ]\n",
      " [ 0.24695984]\n",
      " [ 0.75035242]\n",
      " [-1.92928781]\n",
      " [-0.1544934 ]\n",
      " [ 0.02957011]\n",
      " [-0.27335293]\n",
      " [-0.01142524]\n",
      " [ 0.51052497]\n",
      " [ 0.38513341]]\n"
     ]
    }
   ],
   "source": [
    "x = np.linalg.solve(A,b)\n",
    "print(x)"
   ]
  },
  {
   "cell_type": "code",
   "execution_count": 22,
   "metadata": {
    "pycharm": {
     "name": "#%%\n"
    }
   },
   "outputs": [
    {
     "name": "stdout",
     "output_type": "stream",
     "text": [
      "[[ 0.108236  ]\n",
      " [ 0.24695984]\n",
      " [ 0.75035242]\n",
      " [-1.92928781]\n",
      " [-0.1544934 ]\n",
      " [ 0.02957011]\n",
      " [-0.27335293]\n",
      " [-0.01142524]\n",
      " [ 0.51052497]\n",
      " [ 0.38513341]]\n"
     ]
    }
   ],
   "source": [
    "A_inv = np.linalg.inv(A)\n",
    "print(A_inv.dot(b))\n"
   ]
  },
  {
   "cell_type": "code",
   "execution_count": null,
   "metadata": {
    "collapsed": false,
    "pycharm": {
     "name": "#%%\n"
    }
   },
   "outputs": [],
   "source": [
    "def is_pos_def(x):\n",
    "    return np.all(np.linalg.eigvals(x) > 0)\n",
    "\n",
    "def cho_fun (B):\n",
    "    D=(1/2*(B+np.transpose(B)))\n",
    "    while False == is_pos_def(D):\n",
    "        np.fill_diagonal(D, D.diagonal() + 20)       # we add a large number to diagonal\n",
    "    return cho_solve(cho_factor(D),b)\n",
    "\n",
    "cho_fun(A)\n"
   ]
  }
 ],
 "metadata": {
  "kernelspec": {
   "display_name": "Python 3.9.12 64-bit",
   "language": "python",
   "name": "python3"
  },
  "language_info": {
   "codemirror_mode": {
    "name": "ipython",
    "version": 3
   },
   "file_extension": ".py",
   "mimetype": "text/x-python",
   "name": "python",
   "nbconvert_exporter": "python",
   "pygments_lexer": "ipython3",
   "version": "3.9.12"
  },
  "vscode": {
   "interpreter": {
    "hash": "aee8b7b246df8f9039afb4144a1f6fd8d2ca17a180786b69acc140d282b71a49"
   }
  }
 },
 "nbformat": 4,
 "nbformat_minor": 4
}